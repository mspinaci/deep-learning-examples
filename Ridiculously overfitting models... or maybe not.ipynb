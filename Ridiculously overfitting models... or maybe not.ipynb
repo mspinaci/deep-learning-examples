{
 "cells": [
  {
   "cell_type": "markdown",
   "metadata": {},
   "source": [
    "Here we'll try very hard to overfit, by using silly models.\n",
    "\n",
    "This notebook should be run after the preprocessing part in dogs_vs_cats_with_AlexNet has already been run."
   ]
  },
  {
   "cell_type": "code",
   "execution_count": 19,
   "metadata": {
    "collapsed": true
   },
   "outputs": [],
   "source": [
    "from __future__ import division, print_function\n",
    "from matplotlib import pyplot as plt\n",
    "%matplotlib inline\n",
    "import bcolz\n",
    "import numpy as np\n",
    "import pandas as pd\n",
    "import os"
   ]
  },
  {
   "cell_type": "code",
   "execution_count": 2,
   "metadata": {},
   "outputs": [
    {
     "name": "stderr",
     "output_type": "stream",
     "text": [
      "WARNING (theano.sandbox.cuda): The cuda backend is deprecated and will be removed in the next release (v0.10).  Please switch to the gpuarray backend. You can get more information about how to switch at this URL:\n",
      " https://github.com/Theano/Theano/wiki/Converting-to-the-new-gpu-back-end%28gpuarray%29\n",
      "\n",
      "Using gpu device 0: GeForce GTX 960M (CNMeM is disabled, cuDNN 5110)\n",
      "Using Theano backend.\n"
     ]
    }
   ],
   "source": [
    "import theano\n",
    "import keras"
   ]
  },
  {
   "cell_type": "code",
   "execution_count": 3,
   "metadata": {
    "collapsed": true
   },
   "outputs": [],
   "source": [
    "from keras import backend as K\n",
    "from keras.models import Sequential\n",
    "from keras.layers.core import Dense, Dropout, Flatten, Lambda, Activation\n",
    "from keras.layers.convolutional import Conv2D, MaxPooling2D, ZeroPadding2D\n",
    "from keras.optimizers import SGD\n",
    "from keras.preprocessing import image\n",
    "from keras.layers.core import Layer\n",
    "from keras.layers import merge\n",
    "from keras.callbacks import CSVLogger"
   ]
  },
  {
   "cell_type": "code",
   "execution_count": 4,
   "metadata": {
    "collapsed": true
   },
   "outputs": [],
   "source": [
    "IMAGE_HEIGHT, IMAGE_WIDTH = 227, 227"
   ]
  },
  {
   "cell_type": "markdown",
   "metadata": {},
   "source": [
    "### First, let's do a simple linear model. It should have enough parameters to learn all the images and overfit!"
   ]
  },
  {
   "cell_type": "code",
   "execution_count": 5,
   "metadata": {
    "collapsed": true
   },
   "outputs": [],
   "source": [
    "def load_array(fname):\n",
    "    return bcolz.open(fname)[:]\n",
    "\n",
    "img_mean = load_array('input/img_mean.bz')\n",
    "\n",
    "def center(img):\n",
    "    return img - img_mean.astype(np.float32).transpose([2,0,1])"
   ]
  },
  {
   "cell_type": "code",
   "execution_count": 9,
   "metadata": {},
   "outputs": [],
   "source": [
    "linear = Sequential([\n",
    "    Lambda(center, input_shape=(3, IMAGE_HEIGHT, IMAGE_WIDTH), output_shape=(3, IMAGE_HEIGHT, IMAGE_WIDTH)),\n",
    "    Flatten(),\n",
    "    Dense(2, activation='softmax')\n",
    "])"
   ]
  },
  {
   "cell_type": "code",
   "execution_count": 10,
   "metadata": {},
   "outputs": [
    {
     "name": "stdout",
     "output_type": "stream",
     "text": [
      "_________________________________________________________________\n",
      "Layer (type)                 Output Shape              Param #   \n",
      "=================================================================\n",
      "lambda_3 (Lambda)            (None, 3, 227, 227)       0         \n",
      "_________________________________________________________________\n",
      "flatten_3 (Flatten)          (None, 154587)            0         \n",
      "_________________________________________________________________\n",
      "dense_3 (Dense)              (None, 2)                 309176    \n",
      "=================================================================\n",
      "Total params: 309,176\n",
      "Trainable params: 309,176\n",
      "Non-trainable params: 0\n",
      "_________________________________________________________________\n"
     ]
    }
   ],
   "source": [
    "linear.summary()"
   ]
  },
  {
   "cell_type": "markdown",
   "metadata": {},
   "source": [
    "309k parameters for 23k images. It shouldn't be too hard to learn them all..."
   ]
  },
  {
   "cell_type": "code",
   "execution_count": 6,
   "metadata": {
    "collapsed": true
   },
   "outputs": [],
   "source": [
    "def get_batches(dirname, gen=image.ImageDataGenerator(), shuffle=True, batch_size=4, class_mode='categorical',\n",
    "                target_size=(IMAGE_HEIGHT, IMAGE_WIDTH)):\n",
    "    return gen.flow_from_directory(dirname, target_size=target_size,\n",
    "            class_mode=class_mode, shuffle=shuffle, batch_size=batch_size)"
   ]
  },
  {
   "cell_type": "code",
   "execution_count": 7,
   "metadata": {
    "collapsed": true
   },
   "outputs": [],
   "source": [
    "def fit_model(model, batches, val_batches, nb_epoch=1, verbose=1, callbacks=None):\n",
    "    model.fit_generator(batches, batches.n//batches.batch_size, epochs=nb_epoch, callbacks=callbacks,\n",
    "                        validation_data=val_batches, validation_steps=val_batches.n//val_batches.batch_size, verbose=verbose)"
   ]
  },
  {
   "cell_type": "code",
   "execution_count": 8,
   "metadata": {
    "collapsed": true
   },
   "outputs": [],
   "source": [
    "train_path = 'input/train'\n",
    "valid_path = 'input/valid'\n",
    "test_path = 'input/test'"
   ]
  },
  {
   "cell_type": "code",
   "execution_count": 17,
   "metadata": {},
   "outputs": [
    {
     "name": "stdout",
     "output_type": "stream",
     "text": [
      "Found 23000 images belonging to 2 classes.\n",
      "Found 2000 images belonging to 2 classes.\n"
     ]
    }
   ],
   "source": [
    "batches = get_batches(train_path, batch_size=2000)\n",
    "val_batches = get_batches(valid_path, batch_size=2000)"
   ]
  },
  {
   "cell_type": "code",
   "execution_count": 18,
   "metadata": {
    "collapsed": true
   },
   "outputs": [],
   "source": [
    "sgd = SGD(lr=0.01, decay=1e-6, momentum=0.9, nesterov=True)\n",
    "linear.compile(optimizer=sgd, loss='categorical_crossentropy', metrics=['accuracy'])\n",
    "csv_logger = CSVLogger('training_linear.log')"
   ]
  },
  {
   "cell_type": "code",
   "execution_count": 19,
   "metadata": {},
   "outputs": [
    {
     "name": "stdout",
     "output_type": "stream",
     "text": [
      "Epoch 1/20\n",
      "11/11 [==============================] - 74s - loss: 7.7969 - acc: 0.5147 - val_loss: 7.8092 - val_acc: 0.5155\n",
      "Epoch 2/20\n",
      "11/11 [==============================] - 57s - loss: 7.6748 - acc: 0.5238 - val_loss: 7.8737 - val_acc: 0.5115\n",
      "Epoch 3/20\n",
      "11/11 [==============================] - 56s - loss: 7.7165 - acc: 0.5212 - val_loss: 7.9059 - val_acc: 0.5095\n",
      "Epoch 4/20\n",
      "11/11 [==============================] - 61s - loss: 7.7335 - acc: 0.5202 - val_loss: 7.9623 - val_acc: 0.5060\n",
      "Epoch 5/20\n",
      "11/11 [==============================] - 57s - loss: 7.7406 - acc: 0.5198 - val_loss: 7.9704 - val_acc: 0.5055\n",
      "Epoch 6/20\n",
      "11/11 [==============================] - 57s - loss: 7.6817 - acc: 0.5234 - val_loss: 7.9059 - val_acc: 0.5095\n",
      "Epoch 7/20\n",
      "11/11 [==============================] - 56s - loss: 7.8698 - acc: 0.5117 - val_loss: 7.9301 - val_acc: 0.5080\n",
      "Epoch 8/20\n",
      "11/11 [==============================] - 55s - loss: 7.6661 - acc: 0.5244 - val_loss: 7.9865 - val_acc: 0.5045\n",
      "Epoch 9/20\n",
      "11/11 [==============================] - 56s - loss: 7.7658 - acc: 0.5182 - val_loss: 7.9382 - val_acc: 0.5075\n",
      "Epoch 10/20\n",
      "11/11 [==============================] - 55s - loss: 7.6581 - acc: 0.5249 - val_loss: 7.9301 - val_acc: 0.5080\n",
      "Epoch 11/20\n",
      "11/11 [==============================] - 55s - loss: 7.6587 - acc: 0.5248 - val_loss: 7.8979 - val_acc: 0.5100\n",
      "Epoch 12/20\n",
      "11/11 [==============================] - 55s - loss: 7.6974 - acc: 0.5224 - val_loss: 7.9059 - val_acc: 0.5095\n",
      "Epoch 13/20\n",
      "11/11 [==============================] - 53s - loss: 7.6781 - acc: 0.5236 - val_loss: 7.8817 - val_acc: 0.5110\n",
      "Epoch 14/20\n",
      "11/11 [==============================] - 57s - loss: 7.6354 - acc: 0.5262 - val_loss: 7.9059 - val_acc: 0.5095\n",
      "Epoch 15/20\n",
      "11/11 [==============================] - 57s - loss: 7.5862 - acc: 0.5293 - val_loss: 7.8817 - val_acc: 0.5110\n",
      "Epoch 16/20\n",
      "11/11 [==============================] - 55s - loss: 7.5658 - acc: 0.5306 - val_loss: 7.9301 - val_acc: 0.5080\n",
      "Epoch 17/20\n",
      "11/11 [==============================] - 56s - loss: 7.5018 - acc: 0.5346 - val_loss: 7.9059 - val_acc: 0.5095\n",
      "Epoch 18/20\n",
      "11/11 [==============================] - 54s - loss: 7.5635 - acc: 0.5307 - val_loss: 7.8817 - val_acc: 0.5110\n",
      "Epoch 19/20\n",
      "11/11 [==============================] - 53s - loss: 7.5018 - acc: 0.5346 - val_loss: 7.8817 - val_acc: 0.5110\n",
      "Epoch 20/20\n",
      "11/11 [==============================] - 52s - loss: 7.4958 - acc: 0.5349 - val_loss: 7.7447 - val_acc: 0.5195\n"
     ]
    }
   ],
   "source": [
    "# valid_batches and batches are wrongly named - inverted...\n",
    "fit_model(linear, batches, val_batches, nb_epoch=20, callbacks=[csv_logger], verbose=1)"
   ]
  },
  {
   "cell_type": "code",
   "execution_count": 23,
   "metadata": {
    "collapsed": true
   },
   "outputs": [],
   "source": [
    "training_results = pd.read_csv('training_linear.log')"
   ]
  },
  {
   "cell_type": "code",
   "execution_count": 24,
   "metadata": {},
   "outputs": [
    {
     "data": {
      "text/plain": [
       "<matplotlib.text.Text at 0x687be5c0>"
      ]
     },
     "execution_count": 24,
     "metadata": {},
     "output_type": "execute_result"
    },
    {
     "data": {
      "image/png": "[encoded data removed]",
      "text/plain": [
       "<matplotlib.figure.Figure at 0x6860d5f8>"
      ]
     },
     "metadata": {},
     "output_type": "display_data"
    }
   ],
   "source": [
    "plt.style.use('ggplot')\n",
    "plt.rcParams.update({'font.size': 22})\n",
    "\n",
    "training_results['acc'].plot(figsize=(15,10))\n",
    "plt.ylim([0, 1])\n",
    "plt.xlabel('Epoch')\n",
    "plt.ylabel('Training Accuracy')"
   ]
  },
  {
   "cell_type": "markdown",
   "metadata": {},
   "source": [
    "# At least this seemed to learn something...\n",
    "Still, one would expect overfit (even more since the batch size is very big compared to the total amount of images), which never happens."
   ]
  },
  {
   "cell_type": "markdown",
   "metadata": {},
   "source": [
    "# Add one more layer, hence more parameters...\n",
    "Also, let's be more aggressive, train only on the validation dataset (that has 2000 elements), to stimulate even more overfitting..."
   ]
  },
  {
   "cell_type": "code",
   "execution_count": 9,
   "metadata": {},
   "outputs": [],
   "source": [
    "two_layers = Sequential([\n",
    "    Lambda(center, input_shape=(3, IMAGE_HEIGHT, IMAGE_WIDTH), output_shape=(3, IMAGE_HEIGHT, IMAGE_WIDTH)),\n",
    "    Flatten(),\n",
    "    Dense(500, activation='relu'),\n",
    "    Dense(2, activation='softmax')\n",
    "])"
   ]
  },
  {
   "cell_type": "code",
   "execution_count": 25,
   "metadata": {},
   "outputs": [
    {
     "name": "stdout",
     "output_type": "stream",
     "text": [
      "_________________________________________________________________\n",
      "Layer (type)                 Output Shape              Param #   \n",
      "=================================================================\n",
      "lambda_4 (Lambda)            (None, 3, 227, 227)       0         \n",
      "_________________________________________________________________\n",
      "flatten_4 (Flatten)          (None, 154587)            0         \n",
      "_________________________________________________________________\n",
      "dense_4 (Dense)              (None, 500)               77294000  \n",
      "_________________________________________________________________\n",
      "dense_5 (Dense)              (None, 2)                 1002      \n",
      "=================================================================\n",
      "Total params: 77,295,002\n",
      "Trainable params: 77,295,002\n",
      "Non-trainable params: 0\n",
      "_________________________________________________________________\n"
     ]
    }
   ],
   "source": [
    "two_layers.summary()"
   ]
  },
  {
   "cell_type": "code",
   "execution_count": 22,
   "metadata": {
    "collapsed": true
   },
   "outputs": [],
   "source": [
    "sgd5 = SGD(lr=0.05, decay=1e-6, momentum=0.9, nesterov=True)\n",
    "two_layers.compile(optimizer=sgd5, loss='categorical_crossentropy', metrics=['accuracy'])\n",
    "csv_logger = CSVLogger('training_two_layers.log')"
   ]
  },
  {
   "cell_type": "code",
   "execution_count": 26,
   "metadata": {},
   "outputs": [
    {
     "name": "stdout",
     "output_type": "stream",
     "text": [
      "Found 2000 images belonging to 2 classes.\n"
     ]
    }
   ],
   "source": [
    "small_batches = get_batches(valid_path, batch_size=64)"
   ]
  },
  {
   "cell_type": "code",
   "execution_count": 27,
   "metadata": {},
   "outputs": [
    {
     "name": "stdout",
     "output_type": "stream",
     "text": [
      "Epoch 1/20\n",
      "31/31 [==============================] - 8s - loss: 8.0442 - acc: 0.5005     \n",
      "Epoch 2/20\n",
      "31/31 [==============================] - 8s - loss: 8.0118 - acc: 0.5029     \n",
      "Epoch 3/20\n",
      "31/31 [==============================] - 8s - loss: 8.0761 - acc: 0.4989     \n",
      "Epoch 4/20\n",
      "31/31 [==============================] - 8s - loss: 8.0257 - acc: 0.5021     \n",
      "Epoch 5/20\n",
      "31/31 [==============================] - 8s - loss: 8.1721 - acc: 0.4930     \n",
      "Epoch 6/20\n",
      "31/31 [==============================] - 8s - loss: 8.0200 - acc: 0.5024     \n",
      "Epoch 7/20\n",
      "31/31 [==============================] - 7s - loss: 7.8190 - acc: 0.5149     \n",
      "Epoch 8/20\n",
      "31/31 [==============================] - 8s - loss: 8.1175 - acc: 0.4964     \n",
      "Epoch 9/20\n",
      "31/31 [==============================] - 8s - loss: 7.9859 - acc: 0.5045     \n",
      "Epoch 10/20\n",
      "31/31 [==============================] - 8s - loss: 7.9534 - acc: 0.5066     \n",
      "Epoch 11/20\n",
      "31/31 [==============================] - 8s - loss: 8.1372 - acc: 0.4951     \n",
      "Epoch 12/20\n",
      "31/31 [==============================] - 8s - loss: 8.1713 - acc: 0.4930     \n",
      "Epoch 13/20\n",
      "31/31 [==============================] - 8s - loss: 8.1957 - acc: 0.4915     \n",
      "Epoch 14/20\n",
      "31/31 [==============================] - 8s - loss: 8.0053 - acc: 0.5033     \n",
      "Epoch 15/20\n",
      "31/31 [==============================] - 8s - loss: 8.0037 - acc: 0.5034     \n",
      "Epoch 16/20\n",
      "31/31 [==============================] - 7s - loss: 8.0265 - acc: 0.5020     \n",
      "Epoch 17/20\n",
      "31/31 [==============================] - 7s - loss: 8.0939 - acc: 0.4978     \n",
      "Epoch 18/20\n",
      "31/31 [==============================] - 8s - loss: 7.8810 - acc: 0.5110     \n",
      "Epoch 19/20\n",
      "31/31 [==============================] - 8s - loss: 8.0509 - acc: 0.5005     - ETA: 3s - loss: 8.0730 \n",
      "Epoch 20/20\n",
      "31/31 [==============================] - 8s - loss: 8.1070 - acc: 0.4970     \n"
     ]
    },
    {
     "data": {
      "text/plain": [
       "<keras.callbacks.History at 0x4a5038d0>"
      ]
     },
     "execution_count": 27,
     "metadata": {},
     "output_type": "execute_result"
    }
   ],
   "source": [
    "two_layers.fit_generator(small_batches, small_batches.n//small_batches.batch_size, epochs=20, callbacks = [csv_logger])"
   ]
  },
  {
   "cell_type": "code",
   "execution_count": 37,
   "metadata": {},
   "outputs": [
    {
     "name": "stdout",
     "output_type": "stream",
     "text": [
      "Found 2000 images belonging to 2 classes.\n"
     ]
    }
   ],
   "source": [
    "small_batches = get_batches(valid_path, batch_size=256)"
   ]
  },
  {
   "cell_type": "code",
   "execution_count": 29,
   "metadata": {
    "collapsed": true
   },
   "outputs": [],
   "source": [
    "two_layers.compile(optimizer=sgd, loss='categorical_crossentropy', metrics=['accuracy'])"
   ]
  },
  {
   "cell_type": "code",
   "execution_count": 30,
   "metadata": {},
   "outputs": [
    {
     "name": "stdout",
     "output_type": "stream",
     "text": [
      "Epoch 1/20\n",
      "7/7 [==============================] - 6s - loss: 8.0231 - acc: 0.5022     \n",
      "Epoch 2/20\n",
      "7/7 [==============================] - 6s - loss: 8.1927 - acc: 0.4917     \n",
      "Epoch 3/20\n",
      "7/7 [==============================] - 6s - loss: 7.8838 - acc: 0.5109     \n",
      "Epoch 4/20\n",
      "7/7 [==============================] - 6s - loss: 8.3515 - acc: 0.4819     \n",
      "Epoch 5/20\n",
      "7/7 [==============================] - 6s - loss: 7.6692 - acc: 0.5242     \n",
      "Epoch 6/20\n",
      "7/7 [==============================] - 6s - loss: 8.1295 - acc: 0.4956     \n",
      "Epoch 7/20\n",
      "7/7 [==============================] - 6s - loss: 8.1115 - acc: 0.4967     \n",
      "Epoch 8/20\n",
      "7/7 [==============================] - 6s - loss: 8.1312 - acc: 0.4955     \n",
      "Epoch 9/20\n",
      "7/7 [==============================] - 6s - loss: 8.0770 - acc: 0.4989     \n",
      "Epoch 10/20\n",
      "7/7 [==============================] - 6s - loss: 8.0464 - acc: 0.5008     \n",
      "Epoch 11/20\n",
      "7/7 [==============================] - 6s - loss: 8.1023 - acc: 0.4973     \n",
      "Epoch 12/20\n",
      "7/7 [==============================] - 5s - loss: 7.8984 - acc: 0.5100     \n",
      "Epoch 13/20\n",
      "7/7 [==============================] - 6s - loss: 8.1819 - acc: 0.4924     \n",
      "Epoch 14/20\n",
      "7/7 [==============================] - 6s - loss: 7.9037 - acc: 0.5096     \n",
      "Epoch 15/20\n",
      "7/7 [==============================] - 6s - loss: 8.1025 - acc: 0.4973     \n",
      "Epoch 16/20\n",
      "7/7 [==============================] - 6s - loss: 8.1620 - acc: 0.4936     \n",
      "Epoch 17/20\n",
      "7/7 [==============================] - 6s - loss: 8.1220 - acc: 0.4961     \n",
      "Epoch 18/20\n",
      "7/7 [==============================] - 6s - loss: 7.9380 - acc: 0.5075     \n",
      "Epoch 19/20\n",
      "7/7 [==============================] - 6s - loss: 8.0572 - acc: 0.5001     \n",
      "Epoch 20/20\n",
      "7/7 [==============================] - 6s - loss: 8.1404 - acc: 0.4950     \n"
     ]
    },
    {
     "data": {
      "text/plain": [
       "<keras.callbacks.History at 0x4a5ed668>"
      ]
     },
     "execution_count": 30,
     "metadata": {},
     "output_type": "execute_result"
    }
   ],
   "source": [
    "two_layers.fit_generator(small_batches, small_batches.n//small_batches.batch_size, epochs=20,\n",
    "                         callbacks = [CSVLogger('training_two_layers_part_two.log')])"
   ]
  },
  {
   "cell_type": "markdown",
   "metadata": {},
   "source": [
    "#### For some reason, needs a restart. Save and reload weights..."
   ]
  },
  {
   "cell_type": "code",
   "execution_count": 54,
   "metadata": {},
   "outputs": [],
   "source": [
    "w1 = two_layers.layers[2].get_weights()[0]\n",
    "b1 = two_layers.layers[2].get_weights()[1]\n",
    "w2 = two_layers.layers[3].get_weights()[0]\n",
    "b2 = two_layers.layers[3].get_weights()[1]\n",
    "\n",
    "def save_array(fname, arr):\n",
    "    c=bcolz.carray(arr, rootdir=fname, mode='w')\n",
    "    c.flush()\n",
    "    \n",
    "def create_dir(path):\n",
    "    try:\n",
    "        os.makedirs(path)\n",
    "    except OSError as e:\n",
    "        if e.errno != errno.EEXIST:\n",
    "            raise\n",
    "    \n",
    "create_dir('model_weights')\n",
    "    \n",
    "save_array('model_weights/w1.bz', w1)\n",
    "save_array('model_weights/b1.bz', b1)\n",
    "save_array('model_weights/w2.bz', w2)\n",
    "save_array('model_weights/b2.bz', b2)"
   ]
  },
  {
   "cell_type": "code",
   "execution_count": 11,
   "metadata": {},
   "outputs": [],
   "source": [
    "w1 = load_array('model_weights/w1.bz')\n",
    "b1 = load_array('model_weights/b1.bz')\n",
    "w2 = load_array('model_weights/w2.bz')\n",
    "b2 = load_array('model_weights/b2.bz')\n",
    "\n",
    "two_layers.layers[2].set_weights((w1, b1))\n",
    "two_layers.layers[3].set_weights((w2, b2))"
   ]
  },
  {
   "cell_type": "code",
   "execution_count": 12,
   "metadata": {},
   "outputs": [
    {
     "name": "stdout",
     "output_type": "stream",
     "text": [
      "Found 2000 images belonging to 2 classes.\n"
     ]
    }
   ],
   "source": [
    "small_batches = get_batches(valid_path, batch_size=500)\n",
    "sgd = SGD(lr=0.005, decay=1e-6, momentum=0.9, nesterov=True)\n",
    "two_layers.compile(optimizer=sgd, loss='categorical_crossentropy', metrics=['accuracy'])"
   ]
  },
  {
   "cell_type": "code",
   "execution_count": 13,
   "metadata": {},
   "outputs": [
    {
     "name": "stdout",
     "output_type": "stream",
     "text": [
      "Epoch 1/200\n",
      "4/4 [==============================] - 5s - loss: 8.0590 - acc: 0.5000     \n",
      "Epoch 2/200\n",
      "4/4 [==============================] - 6s - loss: 8.0590 - acc: 0.5000     \n",
      "Epoch 3/200\n",
      "4/4 [==============================] - 6s - loss: 8.0590 - acc: 0.5000     \n",
      "Epoch 4/200\n",
      "4/4 [==============================] - 6s - loss: 8.0590 - acc: 0.5000     \n",
      "Epoch 5/200\n",
      "4/4 [==============================] - 6s - loss: 8.0590 - acc: 0.5000     \n",
      "Epoch 6/200\n",
      "4/4 [==============================] - 6s - loss: 8.0590 - acc: 0.5000     \n",
      "Epoch 7/200\n",
      "4/4 [==============================] - 6s - loss: 8.0590 - acc: 0.5000     \n",
      "Epoch 8/200\n",
      "4/4 [==============================] - 6s - loss: 8.0590 - acc: 0.5000     \n",
      "Epoch 9/200\n",
      "4/4 [==============================] - 6s - loss: 8.0590 - acc: 0.5000     \n",
      "Epoch 10/200\n",
      "4/4 [==============================] - 6s - loss: 8.0590 - acc: 0.5000     \n",
      "Epoch 11/200\n",
      "4/4 [==============================] - 6s - loss: 8.0590 - acc: 0.5000     \n",
      "Epoch 12/200\n",
      "4/4 [==============================] - 6s - loss: 8.0590 - acc: 0.5000     \n",
      "Epoch 13/200\n",
      "4/4 [==============================] - 6s - loss: 8.0590 - acc: 0.5000     \n",
      "Epoch 14/200\n",
      "4/4 [==============================] - 6s - loss: 8.0590 - acc: 0.5000     \n",
      "Epoch 15/200\n",
      "4/4 [==============================] - 6s - loss: 8.0590 - acc: 0.5000     \n",
      "Epoch 16/200\n",
      "4/4 [==============================] - 6s - loss: 8.0590 - acc: 0.5000     \n",
      "Epoch 17/200\n",
      "4/4 [==============================] - 6s - loss: 8.0590 - acc: 0.5000     \n",
      "Epoch 18/200\n",
      "4/4 [==============================] - 6s - loss: 8.0590 - acc: 0.5000     \n",
      "Epoch 19/200\n",
      "4/4 [==============================] - 6s - loss: 8.0590 - acc: 0.5000     \n",
      "Epoch 20/200\n",
      "4/4 [==============================] - 6s - loss: 8.0590 - acc: 0.5000     \n",
      "Epoch 21/200\n",
      "4/4 [==============================] - 6s - loss: 8.0590 - acc: 0.5000     \n",
      "Epoch 22/200\n",
      "4/4 [==============================] - 6s - loss: 8.0590 - acc: 0.5000     \n",
      "Epoch 23/200\n",
      "1/4 [======>.......................] - ETA: 4s - loss: 7.9946 - acc: 0.5040"
     ]
    },
    {
     "ename": "KeyboardInterrupt",
     "evalue": "",
     "output_type": "error",
     "traceback": [
      "\u001b[1;31m---------------------------------------------------------------------------\u001b[0m",
      "\u001b[1;31mKeyboardInterrupt\u001b[0m                         Traceback (most recent call last)",
      "\u001b[1;32m<ipython-input-13-9afbb91cebb8>\u001b[0m in \u001b[0;36m<module>\u001b[1;34m()\u001b[0m\n\u001b[0;32m      1\u001b[0m two_layers.fit_generator(small_batches, small_batches.n//small_batches.batch_size, epochs=200,\n\u001b[1;32m----> 2\u001b[1;33m                          callbacks = [CSVLogger('training_two_layers_part_three.log')])\n\u001b[0m",
      "\u001b[1;32mC:\\Users\\Marco\\Anaconda2\\lib\\site-packages\\keras\\legacy\\interfaces.pyc\u001b[0m in \u001b[0;36mwrapper\u001b[1;34m(*args, **kwargs)\u001b[0m\n\u001b[0;32m     85\u001b[0m                 warnings.warn('Update your `' + object_name +\n\u001b[0;32m     86\u001b[0m                               '` call to the Keras 2 API: ' + signature, stacklevel=2)\n\u001b[1;32m---> 87\u001b[1;33m             \u001b[1;32mreturn\u001b[0m \u001b[0mfunc\u001b[0m\u001b[1;33m(\u001b[0m\u001b[1;33m*\u001b[0m\u001b[0margs\u001b[0m\u001b[1;33m,\u001b[0m \u001b[1;33m**\u001b[0m\u001b[0mkwargs\u001b[0m\u001b[1;33m)\u001b[0m\u001b[1;33m\u001b[0m\u001b[0m\n\u001b[0m\u001b[0;32m     88\u001b[0m         \u001b[0mwrapper\u001b[0m\u001b[1;33m.\u001b[0m\u001b[0m_original_function\u001b[0m \u001b[1;33m=\u001b[0m \u001b[0mfunc\u001b[0m\u001b[1;33m\u001b[0m\u001b[0m\n\u001b[0;32m     89\u001b[0m         \u001b[1;32mreturn\u001b[0m \u001b[0mwrapper\u001b[0m\u001b[1;33m\u001b[0m\u001b[0m\n",
      "\u001b[1;32mC:\\Users\\Marco\\Anaconda2\\lib\\site-packages\\keras\\models.pyc\u001b[0m in \u001b[0;36mfit_generator\u001b[1;34m(self, generator, steps_per_epoch, epochs, verbose, callbacks, validation_data, validation_steps, class_weight, max_queue_size, workers, use_multiprocessing, initial_epoch)\u001b[0m\n\u001b[0;32m   1119\u001b[0m                                         \u001b[0mworkers\u001b[0m\u001b[1;33m=\u001b[0m\u001b[0mworkers\u001b[0m\u001b[1;33m,\u001b[0m\u001b[1;33m\u001b[0m\u001b[0m\n\u001b[0;32m   1120\u001b[0m                                         \u001b[0muse_multiprocessing\u001b[0m\u001b[1;33m=\u001b[0m\u001b[0muse_multiprocessing\u001b[0m\u001b[1;33m,\u001b[0m\u001b[1;33m\u001b[0m\u001b[0m\n\u001b[1;32m-> 1121\u001b[1;33m                                         initial_epoch=initial_epoch)\n\u001b[0m\u001b[0;32m   1122\u001b[0m \u001b[1;33m\u001b[0m\u001b[0m\n\u001b[0;32m   1123\u001b[0m     \u001b[1;33m@\u001b[0m\u001b[0minterfaces\u001b[0m\u001b[1;33m.\u001b[0m\u001b[0mlegacy_generator_methods_support\u001b[0m\u001b[1;33m\u001b[0m\u001b[0m\n",
      "\u001b[1;32mC:\\Users\\Marco\\Anaconda2\\lib\\site-packages\\keras\\legacy\\interfaces.pyc\u001b[0m in \u001b[0;36mwrapper\u001b[1;34m(*args, **kwargs)\u001b[0m\n\u001b[0;32m     85\u001b[0m                 warnings.warn('Update your `' + object_name +\n\u001b[0;32m     86\u001b[0m                               '` call to the Keras 2 API: ' + signature, stacklevel=2)\n\u001b[1;32m---> 87\u001b[1;33m             \u001b[1;32mreturn\u001b[0m \u001b[0mfunc\u001b[0m\u001b[1;33m(\u001b[0m\u001b[1;33m*\u001b[0m\u001b[0margs\u001b[0m\u001b[1;33m,\u001b[0m \u001b[1;33m**\u001b[0m\u001b[0mkwargs\u001b[0m\u001b[1;33m)\u001b[0m\u001b[1;33m\u001b[0m\u001b[0m\n\u001b[0m\u001b[0;32m     88\u001b[0m         \u001b[0mwrapper\u001b[0m\u001b[1;33m.\u001b[0m\u001b[0m_original_function\u001b[0m \u001b[1;33m=\u001b[0m \u001b[0mfunc\u001b[0m\u001b[1;33m\u001b[0m\u001b[0m\n\u001b[0;32m     89\u001b[0m         \u001b[1;32mreturn\u001b[0m \u001b[0mwrapper\u001b[0m\u001b[1;33m\u001b[0m\u001b[0m\n",
      "\u001b[1;32mC:\\Users\\Marco\\Anaconda2\\lib\\site-packages\\keras\\engine\\training.pyc\u001b[0m in \u001b[0;36mfit_generator\u001b[1;34m(self, generator, steps_per_epoch, epochs, verbose, callbacks, validation_data, validation_steps, class_weight, max_queue_size, workers, use_multiprocessing, shuffle, initial_epoch)\u001b[0m\n\u001b[0;32m   2040\u001b[0m                     outs = self.train_on_batch(x, y,\n\u001b[0;32m   2041\u001b[0m                                                \u001b[0msample_weight\u001b[0m\u001b[1;33m=\u001b[0m\u001b[0msample_weight\u001b[0m\u001b[1;33m,\u001b[0m\u001b[1;33m\u001b[0m\u001b[0m\n\u001b[1;32m-> 2042\u001b[1;33m                                                class_weight=class_weight)\n\u001b[0m\u001b[0;32m   2043\u001b[0m \u001b[1;33m\u001b[0m\u001b[0m\n\u001b[0;32m   2044\u001b[0m                     \u001b[1;32mif\u001b[0m \u001b[1;32mnot\u001b[0m \u001b[0misinstance\u001b[0m\u001b[1;33m(\u001b[0m\u001b[0mouts\u001b[0m\u001b[1;33m,\u001b[0m \u001b[0mlist\u001b[0m\u001b[1;33m)\u001b[0m\u001b[1;33m:\u001b[0m\u001b[1;33m\u001b[0m\u001b[0m\n",
      "\u001b[1;32mC:\\Users\\Marco\\Anaconda2\\lib\\site-packages\\keras\\engine\\training.pyc\u001b[0m in \u001b[0;36mtrain_on_batch\u001b[1;34m(self, x, y, sample_weight, class_weight)\u001b[0m\n\u001b[0;32m   1760\u001b[0m             \u001b[0mins\u001b[0m \u001b[1;33m=\u001b[0m \u001b[0mx\u001b[0m \u001b[1;33m+\u001b[0m \u001b[0my\u001b[0m \u001b[1;33m+\u001b[0m \u001b[0msample_weights\u001b[0m\u001b[1;33m\u001b[0m\u001b[0m\n\u001b[0;32m   1761\u001b[0m         \u001b[0mself\u001b[0m\u001b[1;33m.\u001b[0m\u001b[0m_make_train_function\u001b[0m\u001b[1;33m(\u001b[0m\u001b[1;33m)\u001b[0m\u001b[1;33m\u001b[0m\u001b[0m\n\u001b[1;32m-> 1762\u001b[1;33m         \u001b[0moutputs\u001b[0m \u001b[1;33m=\u001b[0m \u001b[0mself\u001b[0m\u001b[1;33m.\u001b[0m\u001b[0mtrain_function\u001b[0m\u001b[1;33m(\u001b[0m\u001b[0mins\u001b[0m\u001b[1;33m)\u001b[0m\u001b[1;33m\u001b[0m\u001b[0m\n\u001b[0m\u001b[0;32m   1763\u001b[0m         \u001b[1;32mif\u001b[0m \u001b[0mlen\u001b[0m\u001b[1;33m(\u001b[0m\u001b[0moutputs\u001b[0m\u001b[1;33m)\u001b[0m \u001b[1;33m==\u001b[0m \u001b[1;36m1\u001b[0m\u001b[1;33m:\u001b[0m\u001b[1;33m\u001b[0m\u001b[0m\n\u001b[0;32m   1764\u001b[0m             \u001b[1;32mreturn\u001b[0m \u001b[0moutputs\u001b[0m\u001b[1;33m[\u001b[0m\u001b[1;36m0\u001b[0m\u001b[1;33m]\u001b[0m\u001b[1;33m\u001b[0m\u001b[0m\n",
      "\u001b[1;32mC:\\Users\\Marco\\Anaconda2\\lib\\site-packages\\keras\\backend\\theano_backend.pyc\u001b[0m in \u001b[0;36m__call__\u001b[1;34m(self, inputs)\u001b[0m\n\u001b[0;32m   1220\u001b[0m     \u001b[1;32mdef\u001b[0m \u001b[0m__call__\u001b[0m\u001b[1;33m(\u001b[0m\u001b[0mself\u001b[0m\u001b[1;33m,\u001b[0m \u001b[0minputs\u001b[0m\u001b[1;33m)\u001b[0m\u001b[1;33m:\u001b[0m\u001b[1;33m\u001b[0m\u001b[0m\n\u001b[0;32m   1221\u001b[0m         \u001b[1;32massert\u001b[0m \u001b[0misinstance\u001b[0m\u001b[1;33m(\u001b[0m\u001b[0minputs\u001b[0m\u001b[1;33m,\u001b[0m \u001b[1;33m(\u001b[0m\u001b[0mlist\u001b[0m\u001b[1;33m,\u001b[0m \u001b[0mtuple\u001b[0m\u001b[1;33m)\u001b[0m\u001b[1;33m)\u001b[0m\u001b[1;33m\u001b[0m\u001b[0m\n\u001b[1;32m-> 1222\u001b[1;33m         \u001b[1;32mreturn\u001b[0m \u001b[0mself\u001b[0m\u001b[1;33m.\u001b[0m\u001b[0mfunction\u001b[0m\u001b[1;33m(\u001b[0m\u001b[1;33m*\u001b[0m\u001b[0minputs\u001b[0m\u001b[1;33m)\u001b[0m\u001b[1;33m\u001b[0m\u001b[0m\n\u001b[0m\u001b[0;32m   1223\u001b[0m \u001b[1;33m\u001b[0m\u001b[0m\n\u001b[0;32m   1224\u001b[0m \u001b[1;33m\u001b[0m\u001b[0m\n",
      "\u001b[1;32mC:\\Users\\Marco\\Anaconda2\\lib\\site-packages\\theano\\compile\\function_module.pyc\u001b[0m in \u001b[0;36m__call__\u001b[1;34m(self, *args, **kwargs)\u001b[0m\n\u001b[0;32m    882\u001b[0m         \u001b[1;32mtry\u001b[0m\u001b[1;33m:\u001b[0m\u001b[1;33m\u001b[0m\u001b[0m\n\u001b[0;32m    883\u001b[0m             \u001b[0moutputs\u001b[0m \u001b[1;33m=\u001b[0m\u001b[0;31m\\\u001b[0m\u001b[1;33m\u001b[0m\u001b[0m\n\u001b[1;32m--> 884\u001b[1;33m                 \u001b[0mself\u001b[0m\u001b[1;33m.\u001b[0m\u001b[0mfn\u001b[0m\u001b[1;33m(\u001b[0m\u001b[1;33m)\u001b[0m \u001b[1;32mif\u001b[0m \u001b[0moutput_subset\u001b[0m \u001b[1;32mis\u001b[0m \u001b[0mNone\u001b[0m \u001b[1;32melse\u001b[0m\u001b[0;31m\\\u001b[0m\u001b[1;33m\u001b[0m\u001b[0m\n\u001b[0m\u001b[0;32m    885\u001b[0m                 \u001b[0mself\u001b[0m\u001b[1;33m.\u001b[0m\u001b[0mfn\u001b[0m\u001b[1;33m(\u001b[0m\u001b[0moutput_subset\u001b[0m\u001b[1;33m=\u001b[0m\u001b[0moutput_subset\u001b[0m\u001b[1;33m)\u001b[0m\u001b[1;33m\u001b[0m\u001b[0m\n\u001b[0;32m    886\u001b[0m         \u001b[1;32mexcept\u001b[0m \u001b[0mException\u001b[0m\u001b[1;33m:\u001b[0m\u001b[1;33m\u001b[0m\u001b[0m\n",
      "\u001b[1;31mKeyboardInterrupt\u001b[0m: "
     ]
    }
   ],
   "source": [
    "two_layers.fit_generator(small_batches, small_batches.n//small_batches.batch_size, epochs=200,\n",
    "                         callbacks = [CSVLogger('training_two_layers_part_three.log')])"
   ]
  },
  {
   "cell_type": "code",
   "execution_count": 16,
   "metadata": {},
   "outputs": [],
   "source": [
    "training_results = pd.concat((\n",
    "    pd.read_csv('training_two_layers.log'), pd.read_csv('training_two_layers_part_two.log'), pd.read_csv('training_two_layers_part_three.log')\n",
    ")).reset_index(drop=True)"
   ]
  },
  {
   "cell_type": "code",
   "execution_count": 17,
   "metadata": {},
   "outputs": [
    {
     "name": "stdout",
     "output_type": "stream",
     "text": [
      "(62, 3)\n"
     ]
    },
    {
     "data": {
      "text/html": [
       "<div>\n",
       "<style>\n",
       "    .dataframe thead tr:only-child th {\n",
       "        text-align: right;\n",
       "    }\n",
       "\n",
       "    .dataframe thead th {\n",
       "        text-align: left;\n",
       "    }\n",
       "\n",
       "    .dataframe tbody tr th {\n",
       "        vertical-align: top;\n",
       "    }\n",
       "</style>\n",
       "<table border=\"1\" class=\"dataframe\">\n",
       "  <thead>\n",
       "    <tr style=\"text-align: right;\">\n",
       "      <th></th>\n",
       "      <th>epoch</th>\n",
       "      <th>acc</th>\n",
       "      <th>loss</th>\n",
       "    </tr>\n",
       "  </thead>\n",
       "  <tbody>\n",
       "    <tr>\n",
       "      <th>0</th>\n",
       "      <td>0</td>\n",
       "      <td>0.500504</td>\n",
       "      <td>8.044167</td>\n",
       "    </tr>\n",
       "    <tr>\n",
       "      <th>1</th>\n",
       "      <td>1</td>\n",
       "      <td>0.500000</td>\n",
       "      <td>8.059048</td>\n",
       "    </tr>\n",
       "    <tr>\n",
       "      <th>2</th>\n",
       "      <td>2</td>\n",
       "      <td>0.497417</td>\n",
       "      <td>8.100675</td>\n",
       "    </tr>\n",
       "    <tr>\n",
       "      <th>3</th>\n",
       "      <td>3</td>\n",
       "      <td>0.503616</td>\n",
       "      <td>8.000770</td>\n",
       "    </tr>\n",
       "    <tr>\n",
       "      <th>4</th>\n",
       "      <td>4</td>\n",
       "      <td>0.494318</td>\n",
       "      <td>8.150628</td>\n",
       "    </tr>\n",
       "  </tbody>\n",
       "</table>\n",
       "</div>"
      ],
      "text/plain": [
       "   epoch       acc      loss\n",
       "0      0  0.500504  8.044167\n",
       "1      1  0.500000  8.059048\n",
       "2      2  0.497417  8.100675\n",
       "3      3  0.503616  8.000770\n",
       "4      4  0.494318  8.150628"
      ]
     },
     "execution_count": 17,
     "metadata": {},
     "output_type": "execute_result"
    }
   ],
   "source": [
    "print(training_results.shape)\n",
    "training_results.head()"
   ]
  },
  {
   "cell_type": "code",
   "execution_count": 22,
   "metadata": {},
   "outputs": [
    {
     "data": {
      "text/plain": [
       "<matplotlib.text.Text at 0x6860d908>"
      ]
     },
     "execution_count": 22,
     "metadata": {},
     "output_type": "execute_result"
    },
    {
     "data": {
      "image/png": "[encoded data removed]",
      "text/plain": [
       "<matplotlib.figure.Figure at 0x35bbd780>"
      ]
     },
     "metadata": {},
     "output_type": "display_data"
    }
   ],
   "source": [
    "plt.style.use('ggplot')\n",
    "plt.rcParams.update({'font.size': 22})\n",
    "\n",
    "training_results['acc'].plot(figsize=(15,10))\n",
    "plt.ylim([0, 1])\n",
    "plt.xlabel('Epoch')\n",
    "plt.ylabel('Training Accuracy')"
   ]
  },
  {
   "cell_type": "code",
   "execution_count": null,
   "metadata": {
    "collapsed": true
   },
   "outputs": [],
   "source": []
  }
 ],
 "metadata": {
  "kernelspec": {
   "display_name": "Python 2",
   "language": "python",
   "name": "python2"
  },
  "language_info": {
   "codemirror_mode": {
    "name": "ipython",
    "version": 2
   },
   "file_extension": ".py",
   "mimetype": "text/x-python",
   "name": "python",
   "nbconvert_exporter": "python",
   "pygments_lexer": "ipython2",
   "version": "2.7.13"
  }
 },
 "nbformat": 4,
 "nbformat_minor": 2
}
