{
 "cells": [
  {
   "cell_type": "code",
   "execution_count": 27,
   "metadata": {},
   "outputs": [],
   "source": [
    "import numpy as np\n",
    "import os\n",
    "from IPython.display import display\n",
    "from matplotlib import pyplot as plt\n",
    "from sklearn.svm import LinearSVC\n",
    "%matplotlib inline"
   ]
  },
  {
   "cell_type": "code",
   "execution_count": 135,
   "metadata": {},
   "outputs": [],
   "source": [
    "from importlib import reload\n",
    "import naive_keras\n",
    "reload(naive_keras)\n",
    "from naive_keras import Sequential, Conv2D, MaxPooling2D, ZeroPadding2D"
   ]
  },
  {
   "cell_type": "code",
   "execution_count": 103,
   "metadata": {},
   "outputs": [],
   "source": [
    "model = Sequential(Conv2D(5, input_shape=(None, 20, 20, 3)),\n",
    "                    MaxPooling2D(),\n",
    "                    ZeroPadding2D(),\n",
    "                    Conv2D(5))"
   ]
  },
  {
   "cell_type": "code",
   "execution_count": 4,
   "metadata": {},
   "outputs": [],
   "source": [
    "x = np.random.randn(10,20,20,3)\n",
    "y = model.predict(x)"
   ]
  },
  {
   "cell_type": "code",
   "execution_count": 5,
   "metadata": {},
   "outputs": [],
   "source": [
    "model.layers[0].save_memory = True\n",
    "model.layers[-1].save_memory = True\n",
    "y2 = model.predict(x)"
   ]
  },
  {
   "cell_type": "code",
   "execution_count": 6,
   "metadata": {},
   "outputs": [
    {
     "data": {
      "text/plain": [
       "True"
      ]
     },
     "execution_count": 6,
     "metadata": {},
     "output_type": "execute_result"
    }
   ],
   "source": [
    "np.allclose(y, y2)"
   ]
  },
  {
   "cell_type": "code",
   "execution_count": 108,
   "metadata": {},
   "outputs": [],
   "source": [
    "from importlib import reload\n",
    "import naive_keras\n",
    "reload(naive_keras)\n",
    "from naive_keras import Sequential, Conv2D, MaxPooling2D, ZeroPadding2D\n",
    "\n",
    "model = Sequential(Conv2D(5, input_shape=(None, 20, 20, 3)),\n",
    "                    MaxPooling2D(),\n",
    "                    ZeroPadding2D(),\n",
    "                    Conv2D(5))\n",
    "\n",
    "model.folder = '/home/spi/nbs/input/train/'"
   ]
  },
  {
   "cell_type": "code",
   "execution_count": 23,
   "metadata": {},
   "outputs": [],
   "source": [
    "pics, labels = model.load_random_input(20, (56,56,3))"
   ]
  },
  {
   "cell_type": "code",
   "execution_count": 28,
   "metadata": {},
   "outputs": [],
   "source": [
    "l = model.layers[0]"
   ]
  },
  {
   "cell_type": "code",
   "execution_count": 43,
   "metadata": {},
   "outputs": [],
   "source": [
    "sm = l.extract_submatrices(pics)"
   ]
  },
  {
   "cell_type": "code",
   "execution_count": 44,
   "metadata": {},
   "outputs": [
    {
     "data": {
      "text/plain": [
       "(20, 324, 27)"
      ]
     },
     "execution_count": 44,
     "metadata": {},
     "output_type": "execute_result"
    }
   ],
   "source": [
    "sm.shape"
   ]
  },
  {
   "cell_type": "code",
   "execution_count": 53,
   "metadata": {
    "scrolled": true
   },
   "outputs": [],
   "source": [
    "def normalize(sm):\n",
    "\n",
    "    mean = sm.reshape(-2,sm.shape[2]).mean(axis=0)\n",
    "    std = sm.reshape(-2,sm.shape[2]).std(axis=0)\n",
    "    sm = (sm - mean) / std\n",
    "    return(sm)\n",
    "\n",
    "sm = normalize(sm)"
   ]
  },
  {
   "cell_type": "code",
   "execution_count": 66,
   "metadata": {},
   "outputs": [
    {
     "data": {
      "text/plain": [
       "LinearSVC(C=1.0, class_weight=None, dual=True, fit_intercept=True,\n",
       "     intercept_scaling=1, loss='squared_hinge', max_iter=1000,\n",
       "     multi_class='ovr', penalty='l2', random_state=None, tol=0.0001,\n",
       "     verbose=0)"
      ]
     },
     "execution_count": 66,
     "metadata": {},
     "output_type": "execute_result"
    }
   ],
   "source": [
    "svm = LinearSVC()\n",
    "\n",
    "svm.fit(sm.reshape(-1, sm.shape[2]), np.repeat(labels, 324))"
   ]
  },
  {
   "cell_type": "code",
   "execution_count": 69,
   "metadata": {},
   "outputs": [
    {
     "data": {
      "text/plain": [
       "0.64969135802469136"
      ]
     },
     "execution_count": 69,
     "metadata": {},
     "output_type": "execute_result"
    }
   ],
   "source": [
    "svm.score(sm.reshape(-1, sm.shape[2]), np.repeat(labels, 324))"
   ]
  },
  {
   "cell_type": "code",
   "execution_count": 73,
   "metadata": {},
   "outputs": [
    {
     "data": {
      "text/plain": [
       "array([0, 0, 1, 1, 0, 1, 0, 0, 1, 0, 1, 1, 0, 0, 1, 0, 0, 0, 0, 1])"
      ]
     },
     "execution_count": 73,
     "metadata": {},
     "output_type": "execute_result"
    }
   ],
   "source": [
    "svm.predict(sm.reshape(-1, sm.shape[2]))[:20]"
   ]
  },
  {
   "cell_type": "code",
   "execution_count": 85,
   "metadata": {},
   "outputs": [
    {
     "data": {
      "text/plain": [
       "True"
      ]
     },
     "execution_count": 85,
     "metadata": {},
     "output_type": "execute_result"
    }
   ],
   "source": [
    "np.allclose((np.sign(sm.reshape(-1, sm.shape[2]).dot(svm.coef_.T) + svm.intercept_) + 1).flatten() // 2, svm.predict(sm.reshape(-1, sm.shape[2])))"
   ]
  },
  {
   "cell_type": "code",
   "execution_count": 90,
   "metadata": {},
   "outputs": [
    {
     "data": {
      "text/plain": [
       "array([-0.1182708 , -0.03388457,  0.04741622,  0.02791344, -0.02333101,\n",
       "        0.01010835, -0.02003861, -0.04512518,  0.01602263, -0.02097458])"
      ]
     },
     "execution_count": 90,
     "metadata": {},
     "output_type": "execute_result"
    }
   ],
   "source": [
    "(sm.reshape(-1, sm.shape[2])[:10].dot(svm.coef_.T) + svm.intercept_).flatten()"
   ]
  },
  {
   "cell_type": "code",
   "execution_count": 88,
   "metadata": {},
   "outputs": [
    {
     "data": {
      "text/plain": [
       "array([-0.1182708 , -0.03388457,  0.04741622,  0.02791344, -0.02333101,\n",
       "        0.01010835, -0.02003861, -0.04512518,  0.01602263, -0.02097458])"
      ]
     },
     "execution_count": 88,
     "metadata": {},
     "output_type": "execute_result"
    }
   ],
   "source": [
    "svm.decision_function(sm.reshape(-1, sm.shape[2])[:10])"
   ]
  },
  {
   "cell_type": "code",
   "execution_count": 94,
   "metadata": {},
   "outputs": [
    {
     "data": {
      "image/png": "[encoded data removed]",
      "text/plain": [
       "<matplotlib.figure.Figure at 0x7f9b0054f240>"
      ]
     },
     "metadata": {},
     "output_type": "display_data"
    }
   ],
   "source": [
    "plt.figure(figsize=(15,10))\n",
    "plt.hist(svm.decision_function(sm.reshape(-1, sm.shape[2])))\n",
    "plt.show()"
   ]
  },
  {
   "cell_type": "code",
   "execution_count": 137,
   "metadata": {},
   "outputs": [
    {
     "name": "stdout",
     "output_type": "stream",
     "text": [
      "Round 0 of 20: 100.0% of the weights used\n",
      "Round 1 of 20: 88.3% of the weights used\n",
      "Round 2 of 20: 92.2% of the weights used\n",
      "Round 3 of 20: 66.0% of the weights used\n",
      "Round 4 of 20: 71.4% of the weights used\n",
      "Round 5 of 20: 43.8% of the weights used\n",
      "Round 6 of 20: 48.6% of the weights used\n",
      "Round 7 of 20: 52.0% of the weights used\n",
      "Round 8 of 20: 44.2% of the weights used\n",
      "Round 9 of 20: 39.7% of the weights used\n",
      "Round 10 of 20: 47.0% of the weights used\n",
      "Round 11 of 20: 43.2% of the weights used\n",
      "Round 12 of 20: 43.2% of the weights used\n",
      "Round 13 of 20: 46.6% of the weights used\n",
      "Round 14 of 20: 40.2% of the weights used\n",
      "Round 15 of 20: 44.1% of the weights used\n",
      "Round 16 of 20: 38.8% of the weights used\n",
      "Round 17 of 20: 37.9% of the weights used\n",
      "Round 18 of 20: 40.5% of the weights used\n",
      "Round 19 of 20: 33.8% of the weights used\n"
     ]
    }
   ],
   "source": [
    "\n",
    "model = Sequential(Conv2D(20, input_shape=(None, 20, 20, 3)),\n",
    "                    MaxPooling2D(),\n",
    "                    ZeroPadding2D(),\n",
    "                    Conv2D(5))\n",
    "\n",
    "\n",
    "model.folder = '/home/spi/nbs/input/train/'\n",
    "\n",
    "l = model.layers[0]\n",
    "svms = []\n",
    "batch_size=10\n",
    "input_shape = l.input_shape\n",
    "for f in range(l.filters):\n",
    "\n",
    "    pics, labels = model.load_random_input(batch_size, input_shape[1:], normalize=True)\n",
    "    if len(set(labels)) != 2:\n",
    "        raise NameError('For the moment, only 2 classes case is implemented...')\n",
    "\n",
    "    # For the moment, only do the version \"without memory saving\"\n",
    "\n",
    "    # Predict up to l (excluding) and take all the submatrices.\n",
    "    sm = l.extract_submatrices(model.predict(pics, until_layer=l))\n",
    "    reshaped = sm.reshape(-1, sm.shape[2])\n",
    "\n",
    "    # If it is not the first filter, give weight < 1 if a previous SVM already\n",
    "    # classifies it more or less correctly.\n",
    "    sample_weights = np.ones(reshaped.shape[0])\n",
    "\n",
    "    svm_labels = np.repeat(labels, sm.shape[1])\n",
    "    svm_labels[svm_labels == 0] = -1\n",
    "    for i in range(len(svms)):\n",
    "        sample_weights = np.minimum(sample_weights, 1-np.maximum(svms[i].decision_function(reshaped) * svm_labels, 0))\n",
    "\n",
    "    print('Round {} of {}: {:.1f}% of the weights used'.format(f, l.filters, np.mean(sample_weights)*100))\n",
    "\n",
    "    svms.append(LinearSVC())\n",
    "    # Fit the (Linear) support vector machine on all the submatrices; so we need to repeat the label quite a bit.\n",
    "    svms[-1].fit(reshaped, np.repeat(labels, sm.shape[1]), sample_weight = sample_weights)\n"
   ]
  },
  {
   "cell_type": "code",
   "execution_count": 141,
   "metadata": {},
   "outputs": [
    {
     "name": "stdout",
     "output_type": "stream",
     "text": [
      "Round 0 of 20: 100.0% of the weights used\n",
      "Round 1 of 20: 97.8% of the weights used\n",
      "Round 2 of 20: 96.1% of the weights used\n",
      "Round 3 of 20: 86.8% of the weights used\n",
      "Round 4 of 20: 80.4% of the weights used\n",
      "Round 5 of 20: 78.3% of the weights used\n",
      "Round 6 of 20: 72.7% of the weights used\n",
      "Round 7 of 20: 67.6% of the weights used\n",
      "Round 8 of 20: 64.1% of the weights used\n",
      "Round 9 of 20: 59.1% of the weights used\n",
      "Round 10 of 20: 57.0% of the weights used\n",
      "Round 11 of 20: 57.2% of the weights used\n",
      "Round 12 of 20: 55.4% of the weights used\n",
      "Round 13 of 20: 56.7% of the weights used\n",
      "Round 14 of 20: 56.3% of the weights used\n",
      "Round 15 of 20: 47.9% of the weights used\n",
      "Round 16 of 20: 43.3% of the weights used\n",
      "Round 17 of 20: 45.1% of the weights used\n",
      "Round 18 of 20: 42.7% of the weights used\n",
      "Round 19 of 20: 43.3% of the weights used\n"
     ]
    }
   ],
   "source": [
    "from importlib import reload\n",
    "import naive_keras\n",
    "reload(naive_keras)\n",
    "from naive_keras import Sequential, Conv2D, MaxPooling2D, ZeroPadding2D\n",
    "\n",
    "model = Sequential(Conv2D(20, input_shape=(None, 20, 20, 3)),\n",
    "                    MaxPooling2D(),\n",
    "                    ZeroPadding2D(),\n",
    "                    Conv2D(5))\n",
    "\n",
    "model.folder = '/home/spi/nbs/input/train/'\n",
    "\n",
    "model.initialize_layer_by_SVM(model.layers[0], batch_size=100)"
   ]
  },
  {
   "cell_type": "code",
   "execution_count": 128,
   "metadata": {},
   "outputs": [
    {
     "ename": "ValueError",
     "evalue": "operands could not be broadcast together with shapes (3240,) (10,) ",
     "output_type": "error",
     "traceback": [
      "\u001b[0;31m---------------------------------------------------------------------------\u001b[0m",
      "\u001b[0;31mValueError\u001b[0m                                Traceback (most recent call last)",
      "\u001b[0;32m<ipython-input-128-e17384cd7d57>\u001b[0m in \u001b[0;36m<module>\u001b[0;34m()\u001b[0m\n\u001b[0;32m----> 1\u001b[0;31m \u001b[0;36m1\u001b[0m\u001b[0;34m-\u001b[0m\u001b[0mnp\u001b[0m\u001b[0;34m.\u001b[0m\u001b[0mmaximum\u001b[0m\u001b[0;34m(\u001b[0m\u001b[0msvms\u001b[0m\u001b[0;34m[\u001b[0m\u001b[0mi\u001b[0m\u001b[0;34m]\u001b[0m\u001b[0;34m.\u001b[0m\u001b[0mdecision_function\u001b[0m\u001b[0;34m(\u001b[0m\u001b[0mreshaped\u001b[0m\u001b[0;34m)\u001b[0m \u001b[0;34m*\u001b[0m \u001b[0msvm_labels\u001b[0m\u001b[0;34m,\u001b[0m \u001b[0;36m0\u001b[0m\u001b[0;34m)\u001b[0m\u001b[0;34m\u001b[0m\u001b[0m\n\u001b[0m",
      "\u001b[0;31mValueError\u001b[0m: operands could not be broadcast together with shapes (3240,) (10,) "
     ]
    }
   ],
   "source": [
    "1-np.maximum(svms[i].decision_function(reshaped) * svm_labels, 0)"
   ]
  },
  {
   "cell_type": "code",
   "execution_count": 130,
   "metadata": {},
   "outputs": [
    {
     "data": {
      "text/plain": [
       "array([ 1, -1, -1,  1, -1, -1, -1,  1, -1, -1])"
      ]
     },
     "execution_count": 130,
     "metadata": {},
     "output_type": "execute_result"
    }
   ],
   "source": [
    "labels"
   ]
  }
 ],
 "metadata": {
  "kernelspec": {
   "display_name": "Python 3",
   "language": "python",
   "name": "python3"
  },
  "language_info": {
   "codemirror_mode": {
    "name": "ipython",
    "version": 3
   },
   "file_extension": ".py",
   "mimetype": "text/x-python",
   "name": "python",
   "nbconvert_exporter": "python",
   "pygments_lexer": "ipython3",
   "version": "3.5.2"
  }
 },
 "nbformat": 4,
 "nbformat_minor": 2
}
